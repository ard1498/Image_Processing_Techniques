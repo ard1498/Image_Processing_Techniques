{
 "cells": [
  {
   "cell_type": "markdown",
   "metadata": {},
   "source": [
    "# Edge Detection"
   ]
  },
  {
   "cell_type": "code",
   "execution_count": 1,
   "metadata": {},
   "outputs": [],
   "source": [
    "import cv2\n",
    "import numpy as np"
   ]
  },
  {
   "cell_type": "code",
   "execution_count": 77,
   "metadata": {},
   "outputs": [],
   "source": [
    "image1 = cv2.resize(cv2.imread('square.png', cv2.IMREAD_GRAYSCALE),(500,300))\n",
    "cv2.imshow('image', image1)\n",
    "cv2.waitKey(0)\n",
    "cv2.destroyAllWindows()"
   ]
  },
  {
   "cell_type": "code",
   "execution_count": 66,
   "metadata": {
    "inputHidden": false,
    "outputHidden": false
   },
   "outputs": [],
   "source": [
    "operators = {\n",
    "    'prewitt' : {\n",
    "        'x' : np.array([[-1,-1,-1],[0,0,0],[1,1,1]]),\n",
    "        'y' : np.array([[-1,0,1],[-1,0,1],[-1,0,1]])\n",
    "    },\n",
    "    \n",
    "    'sobel' : {\n",
    "        'x' : np.array([[-1,-2,-1],[0,0,0],[1,2,1]]),\n",
    "        'y' : np.array([[-1,0,1],[-2,0,2],[1,0,1]])\n",
    "    },\n",
    "    \n",
    "    'robert_cross' : {\n",
    "        'd' : np.array([[-1,0],[0,-1]]),\n",
    "        'anti_d' : np.array([[0,-1],[-1,0]])\n",
    "    },\n",
    "    \n",
    "    'derivative' : {\n",
    "        'x' : np.array([[-1,-1],[0,0]]),\n",
    "        'y' : np.array([[-1,0],[-1,0]])\n",
    "    }\n",
    "}"
   ]
  },
  {
   "cell_type": "code",
   "execution_count": 67,
   "metadata": {
    "inputHidden": false,
    "outputHidden": false
   },
   "outputs": [
    {
     "name": "stdin",
     "output_type": "stream",
     "text": [
      "enter the operator to use ( dict_keys(['prewitt', 'sobel', 'robert_cross', 'derivative']) ) :  sobel\n"
     ]
    }
   ],
   "source": [
    "op_to_use = input(f\"enter the operator to use ( {operators.keys()} ) : \")"
   ]
  },
  {
   "cell_type": "code",
   "execution_count": 68,
   "metadata": {},
   "outputs": [],
   "source": [
    "if op_to_use != 'robert_cross':\n",
    "    gx = operators[op_to_use]['x']\n",
    "    gy = operators[op_to_use]['y']\n",
    "else:\n",
    "    gx = operators[op_to_use]['d']\n",
    "    gy = operators[op_to_use]['anti_d']\n",
    "# print(gx, gy)"
   ]
  },
  {
   "cell_type": "code",
   "execution_count": 103,
   "metadata": {},
   "outputs": [],
   "source": [
    "def edge_image(image):\n",
    "    k = gx.shape[0]\n",
    "    pad = (k-1)//2\n",
    "    im1 = np.pad(image.copy(), ((pad,pad), (pad,pad)), 'edge')\n",
    "    \n",
    "    cv2.imshow('im1',im1)\n",
    "    cv2.waitKey(0)\n",
    "    cv2.destroyAllWindows()\n",
    "    \n",
    "#     im1 = np.zeros((image.shape[0] + 2*pad, image.shape[1] + 2*pad))\n",
    "#     for i in range(image.shape[0]):\n",
    "#         for j in range(image.shape[1]):\n",
    "#             im1[pad + i][pad + j] = image[i,j]\n",
    "    out_gx = np.empty_like(image)\n",
    "    for i in range(image.shape[0] - k + 1):\n",
    "        for j in range(image.shape[1] - k + 1):\n",
    "            out_gx[i,j] = np.sum(gx * im1[i:i+k,j:j+k])\n",
    "    out_gy = np.empty_like(image)\n",
    "    for i in range(image.shape[0] - k + 1):\n",
    "        for j in range(image.shape[1] - k + 1):\n",
    "            out_gy[i,j] = np.sum(gy * im1[i:i+k,j:j+k])\n",
    "    \n",
    "    tan_aplha = np.arctan2((out_gx/out_gy)) * (180 / np.pi)\n",
    "    return out_gx, out_gy, np.array(tan_aplha)"
   ]
  },
  {
   "cell_type": "code",
   "execution_count": 104,
   "metadata": {},
   "outputs": [
    {
     "name": "stderr",
     "output_type": "stream",
     "text": [
      "A:\\Anaconda3\\lib\\site-packages\\ipykernel_launcher.py:23: RuntimeWarning: divide by zero encountered in true_divide\n",
      "A:\\Anaconda3\\lib\\site-packages\\ipykernel_launcher.py:23: RuntimeWarning: invalid value encountered in true_divide\n",
      "A:\\Anaconda3\\lib\\site-packages\\ipykernel_launcher.py:23: RuntimeWarning: invalid value encountered in arctan\n"
     ]
    }
   ],
   "source": [
    "res_gx, res_gy, tan_alpha = edge_image(image1.copy())"
   ]
  },
  {
   "cell_type": "code",
   "execution_count": 105,
   "metadata": {},
   "outputs": [
    {
     "data": {
      "text/plain": [
       "(300, 500)"
      ]
     },
     "execution_count": 105,
     "metadata": {},
     "output_type": "execute_result"
    }
   ],
   "source": [
    "tan_alpha.shape"
   ]
  },
  {
   "cell_type": "code",
   "execution_count": 106,
   "metadata": {},
   "outputs": [
    {
     "name": "stdout",
     "output_type": "stream",
     "text": [
      "[[     0      1      2 ... 149855 149856 149857]]\n"
     ]
    }
   ],
   "source": [
    "tan_aplha = np.unique(tan_alpha)\n",
    "tan_aplha = np.array(np.where(tan_aplha != np.nan))\n",
    "# for i in range(tan_aplha.shape[0]): \n",
    "#     for j in range(tan_aplha.shape[1]):\n",
    "#         if tan_aplha[i,j] == 90 or tan_aplha[i,j] == -90:\n",
    "#             print(tan_aplha[i,j])\n",
    "print(tan_aplha)"
   ]
  },
  {
   "cell_type": "code",
   "execution_count": 107,
   "metadata": {},
   "outputs": [],
   "source": [
    "cv2.imshow('RESX', res_gx)\n",
    "cv2.imshow('RESY', res_gy)\n",
    "cv2.imshow('RESXandY', res_gx + res_gy)\n",
    "cv2.waitKey(0)\n",
    "cv2.destroyAllWindows()"
   ]
  }
 ],
 "metadata": {
  "kernel_info": {
   "name": "python3"
  },
  "kernelspec": {
   "display_name": "Python 3",
   "language": "python",
   "name": "python3"
  },
  "language_info": {
   "codemirror_mode": {
    "name": "ipython",
    "version": 3
   },
   "file_extension": ".py",
   "mimetype": "text/x-python",
   "name": "python",
   "nbconvert_exporter": "python",
   "pygments_lexer": "ipython3",
   "version": "3.6.8"
  },
  "nteract": {
   "version": "0.12.3"
  }
 },
 "nbformat": 4,
 "nbformat_minor": 2
}
