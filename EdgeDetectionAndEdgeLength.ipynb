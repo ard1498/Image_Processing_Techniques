{
 "cells": [
  {
   "cell_type": "markdown",
   "metadata": {},
   "source": [
    "## Edge detection, Edge length calculation and angle of change in gradient for the image"
   ]
  },
  {
   "cell_type": "code",
   "execution_count": 1,
   "metadata": {},
   "outputs": [],
   "source": [
    "import cv2\n",
    "import numpy as np\n",
    "import matplotlib.pyplot as plt\n",
    "import math\n",
    "from pprint import pprint\n",
    "from collections import Counter"
   ]
  },
  {
   "cell_type": "code",
   "execution_count": 65,
   "metadata": {},
   "outputs": [
    {
     "data": {
      "image/png": "[encoded data removed]",
      "text/plain": [
       "<Figure size 432x288 with 1 Axes>"
      ]
     },
     "metadata": {
      "needs_background": "light"
     },
     "output_type": "display_data"
    }
   ],
   "source": [
    "# image = cv2.imread('square.png',0)\n",
    "# image = cv2.threshold(image, 127, 255, cv2.THRESH_BINARY)[1]\n",
    "# image = cv2.resize(cv2.imread('IA4.jpg', cv2.IMREAD_GRAYSCALE),(300,300))\n",
    "\n",
    "image = np.array([[1,1,1,1,1],\n",
    "                  [1,1,1,1,1],\n",
    "                  [1,1,1,1,1],\n",
    "                  [1,1,1,1,1],\n",
    "                  [1,1,1,1,1]])\n",
    "\n",
    "\n",
    "plt.imshow(image)\n",
    "cv2.imshow('original image', image)\n",
    "cv2.waitKey(0)\n",
    "cv2.destroyAllWindows()"
   ]
  },
  {
   "cell_type": "code",
   "execution_count": 66,
   "metadata": {
    "inputHidden": false,
    "outputHidden": false
   },
   "outputs": [
    {
     "data": {
      "text/plain": [
       "array([1])"
      ]
     },
     "execution_count": 66,
     "metadata": {},
     "output_type": "execute_result"
    }
   ],
   "source": [
    "np.unique(image)"
   ]
  },
  {
   "cell_type": "code",
   "execution_count": 67,
   "metadata": {},
   "outputs": [],
   "source": [
    "gx = np.array([[-1,-2,-1],\n",
    "               [0, 0, 0],\n",
    "               [1, 2, 1]])\n",
    "gy = np.array([[-1, 0, 1],\n",
    "               [-2, 0, 2],\n",
    "               [-1, 0, 1] ])"
   ]
  },
  {
   "cell_type": "code",
   "execution_count": 68,
   "metadata": {},
   "outputs": [],
   "source": [
    "def get_edge_images(image, gx, gy):\n",
    "    pad = (gx.shape[0])//2\n",
    "\n",
    "    im1 = np.pad(image.copy(), ((pad,pad),(pad,pad)), 'edge')\n",
    "    im2 = im1.copy()\n",
    "    k = gx.shape[0]\n",
    "\n",
    "    out_x = np.empty_like(image.copy())\n",
    "    for i in range(image.shape[0] - k + 1):\n",
    "        for j in range(image.shape[1] - k + 1):\n",
    "            out_x[i,j] = np.sum(gx * im1[i:i+k,j:j+k])\n",
    "    out_y = np.empty_like(image.copy())\n",
    "    for i in range(image.shape[0] - k + 1):\n",
    "        for j in range(image.shape[1] - k + 1):\n",
    "            out_y[i,j] = np.sum(gy * im2[i:i+k,j:j+k])\n",
    "    G = np.hypot(out_x, out_y)\n",
    "    print(G)\n",
    "    G = G / G.max() * 255\n",
    "    tan_aplha = np.arctan2(out_y.copy(), out_x.copy())\n",
    "    return out_x, out_y, tan_aplha"
   ]
  },
  {
   "cell_type": "code",
   "execution_count": 69,
   "metadata": {},
   "outputs": [
    {
     "name": "stdout",
     "output_type": "stream",
     "text": [
      "[[0.         0.         0.         1.41421356 1.41421356]\n",
      " [0.         0.         0.         1.41421356 1.41421356]\n",
      " [0.         0.         0.         1.41421356 1.41421356]\n",
      " [1.41421356 1.41421356 1.41421356 1.41421356 1.41421356]\n",
      " [1.41421356 1.41421356 1.41421356 1.41421356 1.41421356]]\n"
     ]
    }
   ],
   "source": [
    "res_x, res_y, tan_aplha = get_edge_images(image.copy(), gx.copy(), gy.copy())"
   ]
  },
  {
   "cell_type": "code",
   "execution_count": 70,
   "metadata": {},
   "outputs": [
    {
     "data": {
      "text/plain": [
       "<matplotlib.image.AxesImage at 0x1f9b3910f98>"
      ]
     },
     "execution_count": 70,
     "metadata": {},
     "output_type": "execute_result"
    },
    {
     "data": {
      "image/png": "[encoded data removed]",
      "text/plain": [
       "<Figure size 432x288 with 1 Axes>"
      ]
     },
     "metadata": {
      "needs_background": "light"
     },
     "output_type": "display_data"
    }
   ],
   "source": [
    "tan_alpha = tan_aplha.astype('int')\n",
    "plt.imshow(tan_alpha)"
   ]
  },
  {
   "cell_type": "code",
   "execution_count": 71,
   "metadata": {},
   "outputs": [
    {
     "name": "stdout",
     "output_type": "stream",
     "text": [
      "0.0 0.0 0.0 0.7853981633974483 0.7853981633974483 \n",
      "0.0 0.0 0.0 0.7853981633974483 0.7853981633974483 \n",
      "0.0 0.0 0.0 0.7853981633974483 0.7853981633974483 \n",
      "0.7853981633974483 0.7853981633974483 0.7853981633974483 0.7853981633974483 0.7853981633974483 \n",
      "0.7853981633974483 0.7853981633974483 0.7853981633974483 0.7853981633974483 0.7853981633974483 \n"
     ]
    }
   ],
   "source": [
    "for i in range(tan_aplha.shape[0]):\n",
    "    for j in range(tan_aplha.shape[1]):\n",
    "        print(tan_aplha[i,j], end=\" \")\n",
    "    print()"
   ]
  },
  {
   "cell_type": "code",
   "execution_count": 72,
   "metadata": {},
   "outputs": [
    {
     "data": {
      "text/plain": [
       "array([ 0., 45.])"
      ]
     },
     "execution_count": 72,
     "metadata": {},
     "output_type": "execute_result"
    }
   ],
   "source": [
    "angles = np.array(((np.unique(tan_aplha)) * 180) / np.pi)\n",
    "angles"
   ]
  },
  {
   "cell_type": "code",
   "execution_count": 73,
   "metadata": {},
   "outputs": [
    {
     "data": {
      "image/png": "[encoded data removed]",
      "text/plain": [
       "<Figure size 432x288 with 1 Axes>"
      ]
     },
     "metadata": {
      "needs_background": "light"
     },
     "output_type": "display_data"
    },
    {
     "data": {
      "image/png": "[encoded data removed]",
      "text/plain": [
       "<Figure size 432x288 with 1 Axes>"
      ]
     },
     "metadata": {
      "needs_background": "light"
     },
     "output_type": "display_data"
    },
    {
     "data": {
      "image/png": "[encoded data removed]",
      "text/plain": [
       "<Figure size 432x288 with 1 Axes>"
      ]
     },
     "metadata": {
      "needs_background": "light"
     },
     "output_type": "display_data"
    }
   ],
   "source": [
    "cv2.imshow('horizontal_edges', res_x)\n",
    "cv2.imshow('vertical_edges', res_y)\n",
    "cv2.imshow('horizontal + vertical', res_x.copy() + res_y.copy())\n",
    "\n",
    "plt.imshow(res_x)\n",
    "plt.show()\n",
    "plt.imshow(res_y)\n",
    "plt.show()\n",
    "plt.imshow(image)\n",
    "plt.show()\n",
    "\n",
    "cv2.waitKey(0)\n",
    "cv2.destroyAllWindows()"
   ]
  },
  {
   "cell_type": "code",
   "execution_count": 49,
   "metadata": {},
   "outputs": [],
   "source": [
    "def get_len_of_edges(image):\n",
    "    dic_len = {}\n",
    "    for i in range(image.shape[0]):\n",
    "        for j in range(image.shape[1]):\n",
    "            if image[i,j] not in dic_len:\n",
    "                dic_len[image[i,j]] = 0\n",
    "            dic_len[image[i,j]] += 1\n",
    "    pprint(dic_len)"
   ]
  },
  {
   "cell_type": "code",
   "execution_count": 50,
   "metadata": {},
   "outputs": [
    {
     "name": "stdout",
     "output_type": "stream",
     "text": [
      "64 [[0 0 0 ... 0 1 0]\n",
      " [0 0 0 ... 0 1 0]\n",
      " [0 0 0 ... 0 1 0]\n",
      " ...\n",
      " [0 0 0 ... 0 1 1]\n",
      " [3 3 3 ... 1 1 0]\n",
      " [3 3 3 ... 1 1 0]]\n",
      "{0: 87815,\n",
      " 1: 355,\n",
      " 2: 1374,\n",
      " 3: 96,\n",
      " 4: 6,\n",
      " 5: 6,\n",
      " 6: 6,\n",
      " 7: 6,\n",
      " 8: 6,\n",
      " 9: 6,\n",
      " 10: 6,\n",
      " 11: 6,\n",
      " 12: 6,\n",
      " 13: 6,\n",
      " 14: 6,\n",
      " 15: 6,\n",
      " 16: 6,\n",
      " 17: 6,\n",
      " 18: 6,\n",
      " 19: 6,\n",
      " 20: 6,\n",
      " 21: 6,\n",
      " 22: 6,\n",
      " 23: 6,\n",
      " 24: 6,\n",
      " 25: 6,\n",
      " 26: 6,\n",
      " 27: 6,\n",
      " 28: 6,\n",
      " 29: 6,\n",
      " 30: 6,\n",
      " 31: 6,\n",
      " 32: 6,\n",
      " 33: 6,\n",
      " 34: 6,\n",
      " 35: 6,\n",
      " 36: 6,\n",
      " 37: 6,\n",
      " 38: 6,\n",
      " 39: 6,\n",
      " 40: 6,\n",
      " 41: 6,\n",
      " 42: 6,\n",
      " 43: 6,\n",
      " 44: 6,\n",
      " 45: 6,\n",
      " 46: 6,\n",
      " 47: 6,\n",
      " 48: 6,\n",
      " 49: 6,\n",
      " 50: 6,\n",
      " 51: 6,\n",
      " 52: 6,\n",
      " 53: 6,\n",
      " 54: 6,\n",
      " 55: 6,\n",
      " 56: 6,\n",
      " 57: 6,\n",
      " 58: 6,\n",
      " 59: 6,\n",
      " 60: 6,\n",
      " 61: 6,\n",
      " 62: 6,\n",
      " 63: 6}\n"
     ]
    }
   ],
   "source": [
    "ret, labels = cv2.connectedComponents(res_x.copy() + res_y.copy())\n",
    "print(ret, labels)\n",
    "get_len_of_edges(labels)\n",
    "cv2.imshow('labels', labels)\n",
    "cv2.waitKey(0)\n",
    "cv2.destroyAllWindows()"
   ]
  },
  {
   "cell_type": "code",
   "execution_count": 51,
   "metadata": {},
   "outputs": [
    {
     "data": {
      "text/plain": [
       "array([ 0,  1,  2,  3,  4,  5,  6,  7,  8,  9, 10, 11, 12, 13, 14, 15, 16,\n",
       "       17, 18, 19, 20, 21, 22, 23, 24, 25, 26, 27, 28, 29, 30, 31, 32, 33,\n",
       "       34, 35, 36, 37, 38, 39, 40, 41, 42, 43, 44, 45, 46, 47, 48, 49, 50,\n",
       "       51, 52, 53, 54, 55, 56, 57, 58, 59, 60, 61, 62, 63], dtype=int32)"
      ]
     },
     "execution_count": 51,
     "metadata": {},
     "output_type": "execute_result"
    }
   ],
   "source": [
    "np.unique(labels)"
   ]
  },
  {
   "cell_type": "code",
   "execution_count": 12,
   "metadata": {},
   "outputs": [],
   "source": [
    "import matplotlib.pyplot as plt"
   ]
  },
  {
   "cell_type": "code",
   "execution_count": 52,
   "metadata": {},
   "outputs": [],
   "source": [
    "labels_image = cv2.cvtColor(labels.astype(np.uint8), cv2.COLOR_GRAY2BGR)\n",
    "cv2.imshow('image', labels_image)\n",
    "cv2.waitKey(0)\n",
    "cv2.destroyAllWindows()"
   ]
  },
  {
   "cell_type": "code",
   "execution_count": 53,
   "metadata": {},
   "outputs": [
    {
     "data": {
      "image/png": "[encoded data removed]",
      "text/plain": [
       "<Figure size 432x288 with 1 Axes>"
      ]
     },
     "metadata": {
      "needs_background": "light"
     },
     "output_type": "display_data"
    }
   ],
   "source": [
    "# plt.figure(figsize = (30,30))\n",
    "# plt.grid(True)\n",
    "plt.imshow(labels.copy())\n",
    "plt.show()"
   ]
  }
 ],
 "metadata": {
  "kernel_info": {
   "name": "python3"
  },
  "kernelspec": {
   "display_name": "Python 3",
   "language": "python",
   "name": "python3"
  },
  "language_info": {
   "codemirror_mode": {
    "name": "ipython",
    "version": 3
   },
   "file_extension": ".py",
   "mimetype": "text/x-python",
   "name": "python",
   "nbconvert_exporter": "python",
   "pygments_lexer": "ipython3",
   "version": "3.6.8"
  },
  "nteract": {
   "version": "0.12.3"
  }
 },
 "nbformat": 4,
 "nbformat_minor": 2
}
