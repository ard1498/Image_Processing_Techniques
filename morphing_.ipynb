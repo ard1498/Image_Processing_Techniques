{
 "cells": [
  {
   "cell_type": "code",
   "execution_count": 1,
   "metadata": {},
   "outputs": [],
   "source": [
    "import cv2, numpy as np\n",
    "from matplotlib import pyplot as plt\n",
    "import matplotlib.image as Img\n",
    "import math"
   ]
  },
  {
   "cell_type": "code",
   "execution_count": 2,
   "metadata": {},
   "outputs": [],
   "source": [
    "def dilation(img,f):\n",
    "    m,n= img.shape\n",
    "    new_img = np.zeros(((m-f+1),(n-f+1),3), dtype = 'int') \n",
    "    for i in range(m-f+1):\n",
    "        for j in range(n-f+1):\n",
    "                x = img[i:i+f, j:j+f].sum()/(f**2)\n",
    "                if x > 0:\n",
    "                    new_img[i][j] = 255\n",
    "                else:\n",
    "                    new_img[i][j] = 0\n",
    "    return new_img"
   ]
  },
  {
   "cell_type": "code",
   "execution_count": 3,
   "metadata": {},
   "outputs": [],
   "source": [
    "def erosion(img,f):\n",
    "    m,n = img.shape\n",
    "    new_img = np.zeros(((m-f+1),(n-f+1),3), dtype = 'int')\n",
    "    for i in range(m-f+1):\n",
    "        for j in range(n-f+1):\n",
    "                x = img[i:i+f, j:j+f].sum()/(f**2)\n",
    "                if x == 255:\n",
    "                    new_img[i][j] = 255\n",
    "    return new_img                "
   ]
  },
  {
   "cell_type": "code",
   "execution_count": 4,
   "metadata": {},
   "outputs": [],
   "source": [
    "img = cv2.resize(cv2.imread('binary.png',0),(200,200))\n",
    "cv2.imshow(\"image\",img)\n",
    "cv2.waitKey(0)\n",
    "cv2.destroyAllWindows()"
   ]
  },
  {
   "cell_type": "code",
   "execution_count": 5,
   "metadata": {},
   "outputs": [
    {
     "data": {
      "text/plain": [
       "True"
      ]
     },
     "execution_count": 5,
     "metadata": {},
     "output_type": "execute_result"
    }
   ],
   "source": [
    "dilated_image = dilation(img.copy(),2)\n",
    "ero_image = erosion(img.copy(),2)\n",
    "cv2.imwrite('dilated_image.png',dilated_image)\n",
    "cv2.imwrite('erosion_image.png',ero_image)"
   ]
  },
  {
   "cell_type": "code",
   "execution_count": 6,
   "metadata": {},
   "outputs": [],
   "source": [
    "img1 = cv2.imread('dilated_image.png',0)\n",
    "img2 = cv2.imread('erosion_image.png',0)\n",
    "cv2.imshow(\"dilated image\",img1)\n",
    "cv2.imshow(\"Erosion Image\", img2)\n",
    "cv2.imshow(\"original Image\", img)\n",
    "cv2.waitKey(0)\n",
    "cv2.destroyAllWindows()"
   ]
  }
 ],
 "metadata": {
  "kernelspec": {
   "name": "python3",
   "language": "python",
   "display_name": "Python 3"
  },
  "language_info": {
   "name": "python",
   "version": "3.6.8",
   "mimetype": "text/x-python",
   "codemirror_mode": {
    "name": "ipython",
    "version": 3
   },
   "pygments_lexer": "ipython3",
   "nbconvert_exporter": "python",
   "file_extension": ".py"
  },
  "kernel_info": {
   "name": "python3"
  },
  "nteract": {
   "version": "0.12.3"
  }
 },
 "nbformat": 4,
 "nbformat_minor": 2
}
